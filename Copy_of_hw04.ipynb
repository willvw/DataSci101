{
  "cells": [
    {
      "cell_type": "markdown",
      "metadata": {
        "id": "view-in-github",
        "colab_type": "text"
      },
      "source": [
        "<a href=\"https://colab.research.google.com/github/willvw/DataSci101/blob/main/Copy_of_hw04.ipynb\" target=\"_parent\"><img src=\"https://colab.research.google.com/assets/colab-badge.svg\" alt=\"Open In Colab\"/></a>"
      ]
    },
    {
      "cell_type": "markdown",
      "metadata": {
        "id": "VYv8oJfHtL_s"
      },
      "source": [
        "# Homework 4\n",
        "\n",
        "\n",
        "The American Community Survey (ACS) is a large survey of households\n",
        "and individuals in the United States, carried out by the US\n",
        "government on a continuous basis (around 3.5 million people are\n",
        "contacted per year).  It is arguably the most authoritative source\n",
        "of information about the demographic composition of the US\n",
        "population, and is used for many purposes in academic research,\n",
        "government, public policy, and in private industry.\n",
        "\n",
        "Some of the questions in the ACS are about sensitive topics, and therefore are only released in aggregate form. The \"public use microsample\" (PUMS) is a set of individual ACS responses that only includes information that has been deemed safe for public release at the individual level. Here we will work with a subset of the ACS/PUMS data.\n",
        "\n",
        "You will need to refer to the documentation to know what the ACS variable names mean: **[ACS PUMS Codebooks](https://www.census.gov/programs-surveys/acs/microdata/documentation/2018.html)** Scroll down for data dictionary 2018 \"1-year\" ACS/PUMS, available in several formats. If the 2018 data dictionary is unavailable, you can consult the 2014-2018 data dictionary.\n",
        "\n",
        "For this course, we are providing a simplified version of the ACS/PUMS data from 2018. It contains a random subset of the cases and a selected subset of variables.\n",
        "\n",
        "Note that many PUMS variables are described as being \"household\" or \"individual\" variables. These refer to characteristics of households (one or more people living at the same address) or to characteristics of individual people, respectively.\n"
      ]
    },
    {
      "cell_type": "code",
      "metadata": {
        "id": "iHqwUUXbtL_v"
      },
      "source": [
        "import pandas as pd\n",
        "import numpy as np\n",
        "import seaborn as sb\n",
        "import matplotlib.pyplot as plt"
      ],
      "execution_count": 2,
      "outputs": []
    },
    {
      "cell_type": "code",
      "metadata": {
        "id": "eBE4k3bttL_w"
      },
      "source": [
        "acs = pd.read_csv(\"https://github.com/UM-Data-Science-101/homework-04/raw/refs/heads/main/pums_short.csv.gz\")"
      ],
      "execution_count": 3,
      "outputs": []
    },
    {
      "cell_type": "markdown",
      "source": [
        "## Question 1"
      ],
      "metadata": {
        "id": "8bNBFbBSBfZS"
      }
    },
    {
      "cell_type": "markdown",
      "source": [
        "### Q 1.a\n",
        "\n",
        "Display the number of rows and columns in the `acs` DataFrame as well as the column names."
      ],
      "metadata": {
        "id": "KblbhFKpBiFc"
      }
    },
    {
      "cell_type": "code",
      "source": [
        "#solution\n",
        "#get number\n",
        "rows, columns = acs.shape\n",
        "\n",
        "#display number\n",
        "print(f\"Number of rows: {rows}\")\n",
        "print(f\"Number of columns: {columns}\")\n",
        "\n",
        "#display column names\n",
        "print(\"\\nColumn names:\")\n",
        "print(acs.columns.tolist())"
      ],
      "metadata": {
        "id": "i3LJ73QzBkMy",
        "colab": {
          "base_uri": "https://localhost:8080/"
        },
        "outputId": "93db0f26-a2dd-4196-a464-a8394713da8e"
      },
      "execution_count": 4,
      "outputs": [
        {
          "output_type": "stream",
          "name": "stdout",
          "text": [
            "Number of rows: 276632\n",
            "Number of columns: 31\n",
            "\n",
            "Column names:\n",
            "['DIVISION', 'PUMA', 'REGION', 'ST', 'NP', 'MRGP', 'RNTP', 'TEN', 'VALP', 'VEH', 'YBL', 'FES', 'FINCP', 'FPARC', 'HHT', 'HINCP', 'HUPAC', 'MV', 'NOC', 'NPF', 'NR', 'NRC', 'PARTNER', 'R18', 'R60', 'R65', 'TAXAMT', 'WIF', 'WKEXREL', 'WORKSTAT', 'FFINCP']\n"
          ]
        }
      ]
    },
    {
      "cell_type": "markdown",
      "source": [
        "### Q 1.b\n",
        "\n",
        "Using the codebook, investigate the `\"R65\"` column.\n",
        "\n",
        "* What information is contained in this column?\n",
        "* What kind of data is this (nominal, ordinal, or quantitative)?\n",
        "* Produce a plot that shows the distribution of `\"R65\"` or its key features.\n",
        "* Interpret the plot: what would you say is a typical value for `\"VALP\"`?\n",
        "* Compute the cumulative proportions of this variable.\n",
        "* What proportion of households have either 0 or 1 person aged 65 or older?"
      ],
      "metadata": {
        "id": "jHfPWQ5CBlbZ"
      }
    },
    {
      "cell_type": "markdown",
      "source": [
        "Solution: The information in the column is the presence of persons 65 years and over in a household. The data in this column is ordinal, as data are grouped into groups b, 0, 1, or 2, correlating with N/A, no one 65 or older, 1 person 65 or older, and 2 people 65 or over, respectively.\n",
        "\n",
        "I would say a typical value for \"R65\" is 0, as it has the highest frequency of values by a lot."
      ],
      "metadata": {
        "id": "h5uXa7S2HwMy"
      }
    },
    {
      "cell_type": "code",
      "source": [
        "#solution\n",
        "value_counts = acs['R65'].value_counts().sort_index()\n",
        "plt.bar(value_counts.index, value_counts.values)\n",
        "plt.xlabel('Number of Persons Aged 65+')\n",
        "plt.ylabel('Frequency')\n",
        "plt.title('Distribution of R65')\n",
        "plt.show()\n",
        "\n",
        "#proportions solution\n",
        "value_counts = acs['R65'].value_counts()\n",
        "\n",
        "# Calculate proportions\n",
        "proportions = value_counts / len(acs)\n",
        "\n",
        "# Sort the proportions by index\n",
        "proportions_sorted = proportions.sort_index()\n",
        "\n",
        "# Compute cumulative proportions\n",
        "cumulative_proportions = 1-(proportions_sorted.cumsum())\n",
        "\n",
        "# Display cumulative proportions\n",
        "print(\"Cumulative Proportions:\")\n",
        "print(cumulative_proportions)\n",
        "\n",
        "# Calculate proportion of households with 0 or 1 person aged 65+\n",
        "proportion_0_or_1 = cumulative_proportions[1] + cumulative_proportions[0]\n",
        "print(f\"\\nProportion of households with 0 or 1 person aged 65+: {proportion_0_or_1}\")"
      ],
      "metadata": {
        "id": "Nag1s6uSBpbz",
        "colab": {
          "base_uri": "https://localhost:8080/",
          "height": 615
        },
        "outputId": "9f17eec6-f69f-4fff-f2f1-7e741f4e1478"
      },
      "execution_count": 5,
      "outputs": [
        {
          "output_type": "display_data",
          "data": {
            "text/plain": [
              "<Figure size 640x480 with 1 Axes>"
            ],
            "image/png": "[encoded data removed]"
          },
          "metadata": {}
        },
        {
          "output_type": "stream",
          "name": "stdout",
          "text": [
            "Cumulative Proportions:\n",
            "R65\n",
            "0.0    0.407715\n",
            "1.0    0.210746\n",
            "2.0    0.092589\n",
            "Name: count, dtype: float64\n",
            "\n",
            "Proportion of households with 0 or 1 person aged 65+: 0.6184606263917407\n"
          ]
        }
      ]
    },
    {
      "cell_type": "markdown",
      "source": [
        "### Q 1.c\n",
        "\n",
        "Using the codebook, investigate the `\"VALP\"` column.\n",
        "\n",
        "* What information is contained in this column?\n",
        "* What kind of data is this (nominal, ordinal, or quantitative)?\n",
        "* Produce a plot that shows the distribution of `\"VALP\"` or its key features.\n",
        "* Interpret the plot: what would you say is a typical value for `\"VALP\"`?\n",
        "* Using numerical summaries, compute the proportion of households that have less than 50,000 in property value, less than 100,000 in property value, and less than 200,000 in property value.\n",
        "* Compute the 0.1, 0.5, and 0.75 quantiles of `\"VALP\"`."
      ],
      "metadata": {
        "id": "dUwtPTK1BpvZ"
      }
    },
    {
      "cell_type": "markdown",
      "source": [
        "Solution: The \"VALP\" variable contains the estimated property value of owner-occupied housing units, reported in U.S. dollars, only for \"for sale homes\" as anything else returns a value of bbbbbbb. This is a quantitative variable as it measures the cost of homes.\n",
        "\n",
        "I would say a typical value for \"VALP\" is $200k based on the plot data."
      ],
      "metadata": {
        "id": "4Fn2CnvnM_Yv"
      }
    },
    {
      "cell_type": "code",
      "source": [
        "#solution\n",
        "valp_filtered = acs['VALP'][acs['VALP'] > 0]\n",
        "bins = np.logspace(np.log10(valp_filtered.min()), np.log10(valp_filtered.max()), 50)\n",
        "plt.figure(figsize=(12, 6))\n",
        "plt.hist(valp_filtered, bins=bins, color='skyblue', edgecolor='black')\n",
        "plt.xscale('log')\n",
        "plt.title('Property Values')\n",
        "plt.xlabel('Property Value ($)')\n",
        "plt.ylabel('Frequency')\n",
        "\n",
        "plt.xticks([10000, 25000, 50000, 100000, 200000, 500000, 1000000],\n",
        "           ['$10k', '$25k', '$50k', '$100k', '$200k', '$500k', '$1M'])\n",
        "plt.show()\n",
        "\n",
        "valp_filtered = acs['VALP'][acs['VALP'] > 0]\n",
        "\n",
        "#solution 2\n",
        "valp_filtered = acs['VALP'][acs['VALP'] > 0]  # Exclude zero or negative values if they represent missing data\n",
        "\n",
        "# Calculate proportions for specified thresholds\n",
        "less_than_50k = (valp_filtered < 50000).mean()\n",
        "less_than_100k = (valp_filtered < 100000).mean()\n",
        "less_than_200k = (valp_filtered < 200000).mean()\n",
        "\n",
        "# Display results\n",
        "print(f\"Proportion with property value < $50,000: {less_than_50k:.4f}\")\n",
        "print(f\"Proportion with property value < $100,000: {less_than_100k:.4f}\")\n",
        "print(f\"Proportion with property value < $200,000: {less_than_200k:.4f}\")\n",
        "\n",
        "#quantiles solution\n",
        "quantiles = valp_filtered.quantile([0.1, 0.5, 0.75])\n",
        "\n",
        "# Display quantiles\n",
        "print(\"Quantiles:\")\n",
        "print(quantiles)"
      ],
      "metadata": {
        "id": "1NCjYKxoBtk_",
        "colab": {
          "base_uri": "https://localhost:8080/",
          "height": 707
        },
        "outputId": "37ac2e27-03f8-4fa0-e0ab-9fc2a90bc72d"
      },
      "execution_count": 6,
      "outputs": [
        {
          "output_type": "display_data",
          "data": {
            "text/plain": [
              "<Figure size 1200x600 with 1 Axes>"
            ],
            "image/png": "[encoded data removed]"
          },
          "metadata": {}
        },
        {
          "output_type": "stream",
          "name": "stdout",
          "text": [
            "Proportion with property value < $50,000: 0.0751\n",
            "Proportion with property value < $100,000: 0.1993\n",
            "Proportion with property value < $200,000: 0.4547\n",
            "Quantiles:\n",
            "0.10     60000.0\n",
            "0.50    210000.0\n",
            "0.75    375000.0\n",
            "Name: VALP, dtype: float64\n"
          ]
        }
      ]
    },
    {
      "cell_type": "markdown",
      "source": [
        "### Q 1.d\n",
        "\n",
        "Using the codebook, investigate the `\"REGION\"` column.\n",
        "\n",
        "* What information is contained in this column?\n",
        "* What kind of data is this (nominal, ordinal, or quantitative)?\n",
        "* Using the `replace` method for Series objects, replace the numbers in the `\"REGION\"` column with the names of the regions. Call this new column `\"REGION_name\"`.\n",
        "* Produce a plot that shows the distribution of `\"REGION_name\"` or its key features.\n",
        "* Calculate the distribution of the `\"REGION_name\"` column and print out the results. What proportion of households are in the Northeast and the South combined?"
      ],
      "metadata": {
        "id": "cUg-XI2pBtDM"
      }
    },
    {
      "cell_type": "markdown",
      "source": [
        "Solution: This column contains information about the region that households are in. It separates into 4 regions with another possible result being Puerto Rico. This data is nominal, as there is no natural order between regions. (i.e. South, Midwest, Northeast, etc.)"
      ],
      "metadata": {
        "id": "cJpC44l2vXCh"
      }
    },
    {
      "cell_type": "code",
      "source": [
        "#solution\n",
        "region_map = {\n",
        "    1: \"Northeast\",\n",
        "    2: \"Midwest\",\n",
        "    3: \"South\",\n",
        "    4: \"West\",\n",
        "    9: \"Puerto Rico\"\n",
        "}\n",
        "acs['REGION_name'] = acs['REGION'].replace(region_map)\n",
        "print(acs[['REGION', 'REGION_name']].head())\n",
        "\n",
        "#plot\n",
        "plt.figure(figsize=(8, 6))\n",
        "region_counts = acs['REGION_name'].value_counts()\n",
        "plt.bar(region_counts.index, region_counts.values)\n",
        "plt.xlabel('Region')\n",
        "plt.ylabel('Frequency')\n",
        "plt.title('Distribution of Regions')\n",
        "plt.show()\n",
        "\n",
        "#proportion\n",
        "region_distribution = acs['REGION_name'].value_counts(normalize=True)\n",
        "print(\"Distribution of REGION_name:\")\n",
        "print(region_distribution)\n",
        "\n",
        "#northeast south combined\n",
        "northeast_south = region_distribution['Northeast'] + region_distribution['South']\n",
        "print(f\"\\nProportion of households in the Northeast and the South combined: {northeast_south}\")"
      ],
      "metadata": {
        "id": "YGoTasdmCN_v",
        "colab": {
          "base_uri": "https://localhost:8080/",
          "height": 832
        },
        "outputId": "182a1c99-2879-4869-9846-6a0b68809655"
      },
      "execution_count": 7,
      "outputs": [
        {
          "output_type": "stream",
          "name": "stdout",
          "text": [
            "   REGION REGION_name\n",
            "0       3       South\n",
            "1       3       South\n",
            "2       3       South\n",
            "3       3       South\n",
            "4       3       South\n"
          ]
        },
        {
          "output_type": "display_data",
          "data": {
            "text/plain": [
              "<Figure size 800x600 with 1 Axes>"
            ],
            "image/png": "[encoded data removed]"
          },
          "metadata": {}
        },
        {
          "output_type": "stream",
          "name": "stdout",
          "text": [
            "Distribution of REGION_name:\n",
            "REGION_name\n",
            "South        0.384388\n",
            "West         0.219866\n",
            "Midwest      0.219143\n",
            "Northeast    0.176603\n",
            "Name: proportion, dtype: float64\n",
            "\n",
            "Proportion of households in the Northeast and the South combined: 0.5609907747476792\n"
          ]
        }
      ]
    },
    {
      "cell_type": "markdown",
      "source": [
        "## Question 2"
      ],
      "metadata": {
        "id": "-ADJLvPTCOLQ"
      }
    },
    {
      "cell_type": "markdown",
      "source": [
        "### Q 2.a\n",
        "\n",
        "Review the `\"ST\"` column in the code book. We can see that the values for `\"ST\"` are numbers in the data set. Should we consider these to be *nominal* data? Why or why not?"
      ],
      "metadata": {
        "id": "AD1Sj3qCCQUF"
      }
    },
    {
      "cell_type": "markdown",
      "source": [
        "Yes. These numbers represent States of the U.S., which have no natural order, aligning with the definition of nominal data."
      ],
      "metadata": {
        "id": "Khb8CCkSCmP2"
      }
    },
    {
      "cell_type": "markdown",
      "metadata": {
        "id": "0pRZVDmCtL_w"
      },
      "source": [
        "### Q 2.b\n",
        "\n",
        "Below are two lists with the state codes and the state names listed in the code book for \"ST\".\n",
        "\n",
        "Use these with the `replace` method for Series objects to get a new version of the `\"ST\"` column with nicer, easier to read names. Call this new column `\"ST_name\"`. Demonstrate your results by printing out the state name of the row at position 101206 in the table."
      ]
    },
    {
      "cell_type": "code",
      "metadata": {
        "id": "i9b3orzFtL_x"
      },
      "source": [
        "st_nums = [1, 2, 4, 5, 6, 8, 9, 10, 11, 12, 13, 15, 16, 17, 18, 19, 20, 21, 22, 23, 24, 25, 26, 27, 28, 29, 30, 31, 32, 33, 34, 35, 36, 37, 38, 39, 40, 41, 42, 44, 45, 46, 47, 48, 49, 50, 51, 53, 54, 55, 56, 72]\n",
        "st_names = \"Alabama/AL,Alaska/AK,Arizona/AZ,Arkansas/AR,California/CA,Colorado/CO,Connecticut/CT,Delaware/DE,District of Columbia/DC,Florida/FL,Georgia/GA,Hawaii/HI,Idaho/ID,Illinois/IL,Indiana/IN,Iowa/IA,Kansas/KS,Kentucky/KY,Louisiana/LA,Maine/ME,Maryland/MD,Massachusetts/MA,Michigan/MI,Minnesota/MN,Mississippi/MS,Missouri/MO,Montana/MT,Nebraska/NE,Nevada/NV,New Hampshire/NH,New Jersey/NJ,New Mexico/NM,New York/NY,North Carolina/NC,North Dakota/ND,Ohio/OH,Oklahoma/OK,Oregon/OR,Pennsylvania/PA,Rhode Island/RI,South Carolina/SC,South Dakota/SD,Tennessee/TN,Texas/TX,Utah/UT,Vermont/VT,Virginia/VA,Washington/WA,West Virginia/WV,Wisconsin/WI,Wyoming/WY,Puerto Rico/PRa\".split(\",\")"
      ],
      "execution_count": 8,
      "outputs": []
    },
    {
      "cell_type": "code",
      "source": [
        "#solution\n",
        "st_map = dict(zip(st_nums, [name.split(\"/\")[0] for name in st_names]))\n",
        "acs['ST_name'] = acs['ST'].replace(st_map)\n",
        "print(acs.loc[101206, 'ST_name'])"
      ],
      "metadata": {
        "id": "aYYIidVZCZjl",
        "colab": {
          "base_uri": "https://localhost:8080/"
        },
        "outputId": "2fa79e13-302e-4f18-c8c4-508c980b2a36"
      },
      "execution_count": 9,
      "outputs": [
        {
          "output_type": "stream",
          "name": "stdout",
          "text": [
            "Iowa\n"
          ]
        }
      ]
    },
    {
      "cell_type": "markdown",
      "source": [
        "### Q 2.c\n",
        "\n",
        "Review the codebook for the `PUMA` column. The description notes that we need to \"use with ST for unique code.\" In other words, the same PUMA code may appear in multiple states, so knowing just the PUMA code is not sufficient to know where a household lives.\n",
        "\n",
        "Verify this result by using `groupby()` to create a table that contains the number of households in each \"ST_name\" and \"PUMA\" combination using the `.size()` method (hint: the `.groupby()` method can accept a list of column names as input). Use the `.reset_index()` method on this result to make it a little easier to work with. Call this table `ST_PUMA`.\n",
        "\n",
        "Show that PUMA number 100 appears in multiple states."
      ],
      "metadata": {
        "id": "bGilHDKNCVu_"
      }
    },
    {
      "cell_type": "code",
      "source": [
        "#solution\n",
        "ST_PUMA = acs.groupby(['ST_name', 'PUMA']).size().reset_index(name='household_count')\n",
        "\n",
        "puma_100 = ST_PUMA[ST_PUMA['PUMA'] == 100]\n",
        "print(\"PUMA 100 appears in the following states:\")\n",
        "print(puma_100)"
      ],
      "metadata": {
        "id": "2D9Li2F4CYta",
        "colab": {
          "base_uri": "https://localhost:8080/"
        },
        "outputId": "91ab6ec4-8645-4124-96cd-fcd0fa46dd37"
      },
      "execution_count": 10,
      "outputs": [
        {
          "output_type": "stream",
          "name": "stdout",
          "text": [
            "PUMA 100 appears in the following states:\n",
            "             ST_name  PUMA  household_count\n",
            "0            Alabama   100              160\n",
            "39           Arizona   100               97\n",
            "93          Arkansas   100              203\n",
            "378         Colorado   100              221\n",
            "420      Connecticut   100              139\n",
            "608          Georgia   100              139\n",
            "680           Hawaii   100              202\n",
            "690            Idaho   100              179\n",
            "842             Iowa   100              149\n",
            "864           Kansas   100              166\n",
            "886         Kentucky   100              191\n",
            "920        Louisiana   100              131\n",
            "954            Maine   100              219\n",
            "964         Maryland   100              121\n",
            "1008   Massachusetts   100              209\n",
            "1060        Michigan   100              313\n",
            "1128       Minnesota   100              250\n",
            "1171     Mississippi   100              130\n",
            "1192        Missouri   100              248\n",
            "1239         Montana   100               97\n",
            "1246        Nebraska   100              144\n",
            "1278   New Hampshire   100              226\n",
            "1361      New Mexico   100              236\n",
            "1379        New York   100              182\n",
            "1524  North Carolina   100              206\n",
            "1602    North Dakota   100              203\n",
            "1607            Ohio   100              150\n",
            "1700        Oklahoma   100              273\n",
            "1728          Oregon   100              172\n",
            "1888    South Dakota   100              102\n",
            "1894       Tennessee   100              145\n",
            "1943           Texas   100              268\n",
            "2177         Vermont   100              139\n",
            "2293   West Virginia   100              146\n",
            "2306       Wisconsin   100              496\n",
            "2346         Wyoming   100              121\n"
          ]
        }
      ]
    },
    {
      "cell_type": "markdown",
      "metadata": {
        "id": "JepRQxj2tL_x"
      },
      "source": [
        "### Q 2.d\n",
        "\n",
        "For each state, find the size (in terms of households) of the largest PUMA in that state.\n"
      ]
    },
    {
      "cell_type": "code",
      "source": [
        "#solution\n",
        "max_households_by_state = ST_PUMA.groupby('ST_name')['household_count'].max()\n",
        "print(\"Size of the largest PUMA in each state:\")\n",
        "print(max_households_by_state)"
      ],
      "metadata": {
        "id": "rtjI8pzhCcbL",
        "colab": {
          "base_uri": "https://localhost:8080/"
        },
        "outputId": "0cf28c7f-306c-4bb5-eecf-e17ad829557e"
      },
      "execution_count": 13,
      "outputs": [
        {
          "output_type": "stream",
          "name": "stdout",
          "text": [
            "Size of the largest PUMA in each state:\n",
            "ST_name\n",
            "Alabama                 457\n",
            "Alaska                  247\n",
            "Arizona                 353\n",
            "Arkansas                203\n",
            "California              354\n",
            "Colorado                221\n",
            "Connecticut             223\n",
            "Delaware                343\n",
            "District of Columbia    170\n",
            "Florida                 358\n",
            "Georgia                 233\n",
            "Hawaii                  202\n",
            "Idaho                   180\n",
            "Illinois                291\n",
            "Indiana                 183\n",
            "Iowa                    202\n",
            "Kansas                  210\n",
            "Kentucky                197\n",
            "Louisiana               273\n",
            "Maine                   298\n",
            "Maryland                232\n",
            "Massachusetts           209\n",
            "Michigan                351\n",
            "Minnesota               305\n",
            "Mississippi             193\n",
            "Missouri                248\n",
            "Montana                 221\n",
            "Nebraska                221\n",
            "Nevada                  196\n",
            "New Hampshire           226\n",
            "New Jersey              250\n",
            "New Mexico              236\n",
            "New York                316\n",
            "North Carolina          262\n",
            "North Dakota            203\n",
            "Ohio                    184\n",
            "Oklahoma                282\n",
            "Oregon                  217\n",
            "Pennsylvania            360\n",
            "Rhode Island            164\n",
            "South Carolina          268\n",
            "South Dakota            164\n",
            "Tennessee               195\n",
            "Texas                   324\n",
            "Utah                    193\n",
            "Vermont                 181\n",
            "Virginia                237\n",
            "Washington              416\n",
            "West Virginia           185\n",
            "Wisconsin               496\n",
            "Wyoming                 142\n",
            "Name: household_count, dtype: int64\n"
          ]
        }
      ]
    },
    {
      "cell_type": "markdown",
      "metadata": {
        "id": "Tiln4zZRtL_x"
      },
      "source": [
        "### Q 2.e\n",
        "\n",
        "For each `ST_name` and `PUMA` combination, add up the total income of all households. Use `.reset_index(name = \"total_income\")` to make the table a little easier to work with.\n",
        "\n",
        "Graph the distribution of total income per ST_state-PUMA combination. Using the graph, answer the following questions:\n",
        "\n",
        "* What is a typical value for these total incomes?\n",
        "* Where do most of the observations falls?\n",
        "* Do you see about equal variation across the range of the `total_income` values.\n",
        "\n",
        "(Note: there is a good chance the graph axes will be in \"scientific notation.\" A value like 3e7 means $3 \\times 10^7$.)\n"
      ]
    },
    {
      "cell_type": "markdown",
      "source": [
        "A typical value for total incomes would be 9.5 Million, with 50 percent of the total observations falling between approximately 6 Million and 11.5 Million.\n",
        "\n",
        "The distribution is right-skewed, meaning there are many low-to-moderate income combos but only a couple with very high total incomes.This skewness implies unequal variation across the range of total income values. Most observations will fall within a tighter range, (as shown by IQR), but outliers will stretch the distribution."
      ],
      "metadata": {
        "id": "W0tAyFj6bqDU"
      }
    },
    {
      "cell_type": "code",
      "source": [
        "#solution\n",
        "ST_PUMA_income = acs.groupby(['ST_name', 'PUMA'])['HINCP'].sum().reset_index(name='total_income')\n",
        "print(ST_PUMA_income.tail())\n",
        "\n",
        "mean_total_income = ST_PUMA_income['total_income'].mean()\n",
        "\n",
        "import matplotlib.pyplot as plt\n",
        "\n",
        "plt.figure(figsize=(12, 6))\n",
        "plt.hist(ST_PUMA_income['total_income'], bins=30, color='skyblue', edgecolor='black')\n",
        "plt.title('Distribution of Total Income per ST_name-PUMA Combination')\n",
        "plt.axvline(mean_total_income, color='red', linestyle='solid', linewidth=2, label='Mean')\n",
        "q1, q3 = np.percentile(ST_PUMA_income['total_income'], [25, 75])\n",
        "plt.axvline(q1, color='red', linestyle='dashed', linewidth=2, label='25th Percentile')\n",
        "plt.axvline(q3, color='red', linestyle='dashed', linewidth=2, label='75th Percentile')\n",
        "plt.xlabel('Total Income ($)')\n",
        "plt.ylabel('Frequency')\n",
        "plt.grid(True)\n",
        "plt.show()\n",
        "\n",
        "print(f\"The mean total income is: ${mean_total_income:.2f}\")\n",
        "print(\"            Dashed Lines = 25th and 75th Percentiles             Solid Line = Mean\")"
      ],
      "metadata": {
        "id": "5pG8ZHBICdEB",
        "colab": {
          "base_uri": "https://localhost:8080/",
          "height": 707
        },
        "outputId": "cefa53bd-47ce-4eca-e4c4-37024b6fd4d9"
      },
      "execution_count": 31,
      "outputs": [
        {
          "output_type": "stream",
          "name": "stdout",
          "text": [
            "      ST_name  PUMA  total_income\n",
            "2346  Wyoming   100     9866650.0\n",
            "2347  Wyoming   200     6901870.0\n",
            "2348  Wyoming   300     7315490.0\n",
            "2349  Wyoming   400    10681280.0\n",
            "2350  Wyoming   500     8653204.0\n"
          ]
        },
        {
          "output_type": "display_data",
          "data": {
            "text/plain": [
              "<Figure size 1200x600 with 1 Axes>"
            ],
            "image/png": "[encoded data removed]"
          },
          "metadata": {}
        },
        {
          "output_type": "stream",
          "name": "stdout",
          "text": [
            "The mean total income is: $9572065.21\n",
            "            Dashed Lines = 25th and 75th Percentiles             Solid Line = Mean\n"
          ]
        }
      ]
    }
  ],
  "metadata": {
    "kernelspec": {
      "display_name": "Python 3",
      "language": "python",
      "name": "python3"
    },
    "colab": {
      "provenance": [],
      "include_colab_link": true
    }
  },
  "nbformat": 4,
  "nbformat_minor": 0
}