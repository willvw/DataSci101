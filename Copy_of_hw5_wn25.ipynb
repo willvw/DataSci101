{
  "cells": [
    {
      "cell_type": "markdown",
      "metadata": {
        "id": "view-in-github",
        "colab_type": "text"
      },
      "source": [
        "<a href=\"https://colab.research.google.com/github/willvw/DataSci101/blob/main/Copy_of_hw5_wn25.ipynb\" target=\"_parent\"><img src=\"https://colab.research.google.com/assets/colab-badge.svg\" alt=\"Open In Colab\"/></a>"
      ]
    },
    {
      "cell_type": "markdown",
      "metadata": {
        "id": "IAAEJ4uM0NZS"
      },
      "source": [
        "# Homework 5\n",
        "\n",
        "\n",
        "\n",
        "This assignment will continue to use the American Community Survey (ACS) from the US Census.\n",
        "You will need to refer to the documentation to know what the ACS variable names mean. You can find a copy of the codebook in the [Lab 4 folder on Google Drive](https://drive.google.com/drive/folders/1Sq3OGSlwu9qXAZl7rD2AQJk8Mwj-jTkl)\n"
      ]
    },
    {
      "cell_type": "code",
      "metadata": {
        "id": "dw93IUZp0NZV"
      },
      "source": [
        "import warnings\n",
        "warnings.simplefilter(action='ignore', category=FutureWarning)\n",
        "\n",
        "import pandas as pd\n",
        "import numpy as np\n",
        "import seaborn as sb\n",
        "import matplotlib.pyplot as plt\n",
        "pd.options.mode.chained_assignment = None"
      ],
      "execution_count": 1,
      "outputs": []
    },
    {
      "cell_type": "code",
      "metadata": {
        "id": "DFWg6nV90NZW"
      },
      "source": [
        "acs = pd.read_csv(\"https://github.com/UM-Data-Science-101/homework-05/raw/refs/heads/main/pums_short.csv.gz\")"
      ],
      "execution_count": 2,
      "outputs": []
    },
    {
      "cell_type": "markdown",
      "metadata": {
        "id": "DcoalP-r0NZW"
      },
      "source": [
        "## Question 1: Working with missing data\n",
        "\n",
        "### Q1.a\n",
        "\n",
        "In the previous lab we counted the number of missing values for the `\"RNTP\"` column using"
      ]
    },
    {
      "cell_type": "code",
      "metadata": {
        "id": "IG0RmlCJ0NZX",
        "colab": {
          "base_uri": "https://localhost:8080/"
        },
        "outputId": "9f78effc-e47f-4442-d27f-260571eb6082"
      },
      "source": [
        "acs[\"RNTP\"].isna().sum()"
      ],
      "execution_count": 3,
      "outputs": [
        {
          "output_type": "execute_result",
          "data": {
            "text/plain": [
              "202728"
            ]
          },
          "metadata": {},
          "execution_count": 3
        }
      ]
    },
    {
      "cell_type": "markdown",
      "source": [
        "Repeat for the `\"VALP\"` column. (If you want, you can compute totals for both `\"VALP\"` and `\"RNTP\"` simultaneously.)"
      ],
      "metadata": {
        "id": "z3UoSYaxcazr"
      }
    },
    {
      "cell_type": "code",
      "source": [
        "acs[\"VALP\"].isna().sum()"
      ],
      "metadata": {
        "id": "7JNJv9AxcaeY",
        "colab": {
          "base_uri": "https://localhost:8080/"
        },
        "outputId": "fa6f813a-5533-43cc-9fb0-9dd2db92ae55"
      },
      "execution_count": 4,
      "outputs": [
        {
          "output_type": "execute_result",
          "data": {
            "text/plain": [
              "97644"
            ]
          },
          "metadata": {},
          "execution_count": 4
        }
      ]
    },
    {
      "cell_type": "markdown",
      "source": [
        "Print out the total number of rows in the `acs` table. Comment on what you notice about the total number of rows and the sum of the missing values for these two columns."
      ],
      "metadata": {
        "id": "sGAscjVcdjRD"
      }
    },
    {
      "cell_type": "code",
      "source": [
        "missing_valp = acs[\"VALP\"].isna().sum()\n",
        "missing_rntp = acs[\"RNTP\"].isna().sum()\n",
        "total_rows = len(acs)\n",
        "\n",
        "print(f\"Missing values in VALP: {missing_valp}\")\n",
        "print(f\"Missing values in RNTP: {missing_rntp}\")\n",
        "print(f\"Total rows in acs table: {total_rows}\")"
      ],
      "metadata": {
        "id": "kiZx_lLXdi4e",
        "colab": {
          "base_uri": "https://localhost:8080/"
        },
        "outputId": "2a7df3c7-8faf-4496-fd3f-09766d4abbd5"
      },
      "execution_count": 5,
      "outputs": [
        {
          "output_type": "stream",
          "name": "stdout",
          "text": [
            "Missing values in VALP: 97644\n",
            "Missing values in RNTP: 202728\n",
            "Total rows in acs table: 276632\n"
          ]
        }
      ]
    },
    {
      "cell_type": "markdown",
      "source": [
        "### Q1.b\n",
        "\n",
        "Write a single line of code that proves that 100% of observations are missing either the `\"VALP\"` or `\"RNTP\"` measurements."
      ],
      "metadata": {
        "id": "lDa95s1Zce7j"
      }
    },
    {
      "cell_type": "code",
      "source": [
        "acs[\"VALP\"].isna().sum() + acs[\"RNTP\"].isna().sum() == len(acs)"
      ],
      "metadata": {
        "id": "QtcjfWcqcf3r",
        "colab": {
          "base_uri": "https://localhost:8080/"
        },
        "outputId": "9ee3ab8a-fd81-4c74-c757-256f5800d194"
      },
      "execution_count": 6,
      "outputs": [
        {
          "output_type": "execute_result",
          "data": {
            "text/plain": [
              "False"
            ]
          },
          "metadata": {},
          "execution_count": 6
        }
      ]
    },
    {
      "cell_type": "markdown",
      "metadata": {
        "id": "cwv332dK0NZX"
      },
      "source": [
        "### Q1.c\n",
        "\n",
        "The `.dropna()` method has a `subset = ['column1', 'column2']` argument that allows you to indicate which columns your want to use to control how rows are dropped from the result.\n",
        "\n",
        "Create a table called `owners` that only includes households that have non-missing `\"VALP\"` entries."
      ]
    },
    {
      "cell_type": "code",
      "source": [
        "owners = acs.dropna(subset=['VALP'])"
      ],
      "metadata": {
        "id": "Q5JNcY7ffBfu"
      },
      "execution_count": 7,
      "outputs": []
    },
    {
      "cell_type": "markdown",
      "source": [
        "Print out the number of rows in this table and verify it matches the number of observations with *non-missing* `\"VALP\"` entries in `acs`."
      ],
      "metadata": {
        "id": "55qkK3x6fB5L"
      }
    },
    {
      "cell_type": "code",
      "metadata": {
        "id": "BR6Lf-4D0NZX",
        "colab": {
          "base_uri": "https://localhost:8080/",
          "height": 210
        },
        "outputId": "3ffdfdbc-84ec-46fa-b613-563f6ac631cf"
      },
      "source": [
        "hint = pd.Series([True, False, False, True])\n",
        "~ hint"
      ],
      "execution_count": 9,
      "outputs": [
        {
          "output_type": "execute_result",
          "data": {
            "text/plain": [
              "0    False\n",
              "1     True\n",
              "2     True\n",
              "3    False\n",
              "dtype: bool"
            ],
            "text/html": [
              "<div>\n",
              "<style scoped>\n",
              "    .dataframe tbody tr th:only-of-type {\n",
              "        vertical-align: middle;\n",
              "    }\n",
              "\n",
              "    .dataframe tbody tr th {\n",
              "        vertical-align: top;\n",
              "    }\n",
              "\n",
              "    .dataframe thead th {\n",
              "        text-align: right;\n",
              "    }\n",
              "</style>\n",
              "<table border=\"1\" class=\"dataframe\">\n",
              "  <thead>\n",
              "    <tr style=\"text-align: right;\">\n",
              "      <th></th>\n",
              "      <th>0</th>\n",
              "    </tr>\n",
              "  </thead>\n",
              "  <tbody>\n",
              "    <tr>\n",
              "      <th>0</th>\n",
              "      <td>False</td>\n",
              "    </tr>\n",
              "    <tr>\n",
              "      <th>1</th>\n",
              "      <td>True</td>\n",
              "    </tr>\n",
              "    <tr>\n",
              "      <th>2</th>\n",
              "      <td>True</td>\n",
              "    </tr>\n",
              "    <tr>\n",
              "      <th>3</th>\n",
              "      <td>False</td>\n",
              "    </tr>\n",
              "  </tbody>\n",
              "</table>\n",
              "</div><br><label><b>dtype:</b> bool</label>"
            ]
          },
          "metadata": {},
          "execution_count": 9
        }
      ]
    },
    {
      "cell_type": "code",
      "source": [
        "owners_row_count = len(owners)\n",
        "non_missing_valp_count = acs[\"VALP\"].notna().sum()\n",
        "\n",
        "print(f\"Number of rows in owners table: {owners_row_count}\")\n",
        "print(f\"Number of non-missing VALP entries in acs: {non_missing_valp_count}\")\n",
        "print(f\"The counts match: {owners_row_count == non_missing_valp_count}\")"
      ],
      "metadata": {
        "id": "x90yPTmOeipE",
        "colab": {
          "base_uri": "https://localhost:8080/"
        },
        "outputId": "9fd1c00e-36f8-4d9d-ade0-7b30bf6332f3"
      },
      "execution_count": 8,
      "outputs": [
        {
          "output_type": "stream",
          "name": "stdout",
          "text": [
            "Number of rows in owners table: 178988\n",
            "Number of non-missing VALP entries in acs: 178988\n",
            "The counts match: True\n"
          ]
        }
      ]
    },
    {
      "cell_type": "markdown",
      "source": [
        "### Q1.d\n",
        "\n",
        "Using the `owners` table, what **proportion** of rows are missing `\"HINCP\"` values?\n"
      ],
      "metadata": {
        "id": "ipZ7VbBwckbr"
      }
    },
    {
      "cell_type": "code",
      "source": [
        "missing_hincp_proportion = owners[\"HINCP\"].isna().mean()\n",
        "print(f\"Proportion of rows missing HINCP values: {missing_hincp_proportion:.4f}\")"
      ],
      "metadata": {
        "id": "4z4RRyBXc_PR",
        "colab": {
          "base_uri": "https://localhost:8080/"
        },
        "outputId": "94b32a1d-e59f-411b-9494-cc614b4c0be4"
      },
      "execution_count": 10,
      "outputs": [
        {
          "output_type": "stream",
          "name": "stdout",
          "text": [
            "Proportion of rows missing HINCP values: 0.0133\n"
          ]
        }
      ]
    },
    {
      "cell_type": "markdown",
      "source": [
        "Find the median value of the non-missing values (hint: built in Panadas methods automatically drop missing values).\n"
      ],
      "metadata": {
        "id": "_1OUItM3fOV3"
      }
    },
    {
      "cell_type": "code",
      "source": [
        "median_hincp = owners[\"HINCP\"].median()\n",
        "print(f\"Median value of non-missing HINCP: {median_hincp}\")"
      ],
      "metadata": {
        "id": "ITQuVKLDfSr6",
        "colab": {
          "base_uri": "https://localhost:8080/"
        },
        "outputId": "102f0a06-1885-48b4-b054-99b85a58ec88"
      },
      "execution_count": 11,
      "outputs": [
        {
          "output_type": "stream",
          "name": "stdout",
          "text": [
            "Median value of non-missing HINCP: 75000.0\n"
          ]
        }
      ]
    },
    {
      "cell_type": "markdown",
      "source": [
        "Using the `.fillna(VALUE, inplace = TRUE)` method, update the `\"HINCP\"` column of the `owners` table by making any missing values equal to median of the non-missing values.\n"
      ],
      "metadata": {
        "id": "vD6OAJgEfQWX"
      }
    },
    {
      "cell_type": "code",
      "source": [
        "owners[\"HINCP\"].fillna(owners[\"HINCP\"].median(), inplace=True)"
      ],
      "metadata": {
        "id": "bmnZ6vUtfcOY"
      },
      "execution_count": 13,
      "outputs": []
    },
    {
      "cell_type": "markdown",
      "source": [
        "Verify by showing that all of the values are not missing for `\"HINCP\"`."
      ],
      "metadata": {
        "id": "AsGm603kfcf-"
      }
    },
    {
      "cell_type": "code",
      "source": [
        "missing_hincp_count = owners[\"HINCP\"].isna().sum()\n",
        "total_rows = len(owners)\n",
        "\n",
        "print(f\"Number of missing HINCP values: {missing_hincp_count}\")\n",
        "print(f\"Total number of rows: {total_rows}\")\n",
        "print(f\"All HINCP values are non-missing: {missing_hincp_count == 0}\")"
      ],
      "metadata": {
        "id": "878XqRYjfeM2",
        "colab": {
          "base_uri": "https://localhost:8080/"
        },
        "outputId": "04aae481-46f2-48a4-8c72-593d24ede05a"
      },
      "execution_count": 14,
      "outputs": [
        {
          "output_type": "stream",
          "name": "stdout",
          "text": [
            "Number of missing HINCP values: 0\n",
            "Total number of rows: 178988\n",
            "All HINCP values are non-missing: True\n"
          ]
        }
      ]
    },
    {
      "cell_type": "markdown",
      "source": [
        "\n",
        "### Q1.e\n",
        "\n",
        "Repeat the above steps to create a table `renters` that contains only rows for people who are renting (have non-missing `RNTP` values) and median impute any missing `HINCP` values.\n",
        "\n",
        "Remember: `renters` and `owners` remove rows on different conditions, thus the numeric summaries for various columns will differ among the `renters` and `owners`. Make sure you use the respective table's median to impute `\"HINCP\"`.\n",
        "\n",
        "\n"
      ],
      "metadata": {
        "id": "nGTTRUg9coBi"
      }
    },
    {
      "cell_type": "code",
      "source": [
        "renters = acs.dropna(subset=['RNTP'])\n",
        "\n",
        "missing_hincp_proportion = renters[\"HINCP\"].isna().mean()\n",
        "print(f\"Proportion of rows missing HINCP values in renters table: {missing_hincp_proportion:.4f}\")\n",
        "\n",
        "median_hincp_renters = renters[\"HINCP\"].median()\n",
        "print(f\"Median value of non-missing HINCP for renters: {median_hincp_renters}\")\n",
        "\n",
        "renters[\"HINCP\"].fillna(median_hincp_renters, inplace=True)\n",
        "\n",
        "missing_hincp_count = renters[\"HINCP\"].isna().sum()\n",
        "total_rows = len(renters)\n",
        "print(f\"Number of missing HINCP values in renters table: {missing_hincp_count}\")\n",
        "print(f\"Total number of rows in renters table: {total_rows}\")\n",
        "print(f\"All HINCP values are non-missing in renters table: {missing_hincp_count == 0}\")"
      ],
      "metadata": {
        "id": "n9QPsB6sc-v_",
        "colab": {
          "base_uri": "https://localhost:8080/"
        },
        "outputId": "798ec802-83bf-4017-de00-9da763d9536f"
      },
      "execution_count": 18,
      "outputs": [
        {
          "output_type": "stream",
          "name": "stdout",
          "text": [
            "Proportion of rows missing HINCP values in renters table: 0.0563\n",
            "Median value of non-missing HINCP for renters: 40000.0\n",
            "Number of missing HINCP values in renters table: 0\n",
            "Total number of rows in renters table: 73904\n",
            "All HINCP values are non-missing in renters table: True\n"
          ]
        }
      ]
    },
    {
      "cell_type": "markdown",
      "source": [
        "For both `owners` and `renters` compute the following quantities for the \"HINCP\" column.\n",
        "- mean\n",
        "- median\n",
        "- IQR\n",
        "- standard deviation\n",
        "\n",
        "Which group has the higher location values? Which group has more spread? Comment briefly on what this means.\n"
      ],
      "metadata": {
        "id": "l4AqGopMfoW1"
      }
    },
    {
      "cell_type": "markdown",
      "source": [
        "Answer: Owners have a much higher median and mean, however, the owners spread is also much larger than that of the renters. The higher spread in homeowners incomes could mean a wider range of property values and appreciation over time. Renters may have more clustered incomes, which could be a sign of income restrictions on rented homes/properties."
      ],
      "metadata": {
        "id": "3Ty3dw6wTn-b"
      }
    },
    {
      "cell_type": "code",
      "source": [
        "import statistics\n",
        "\n",
        "# For owners\n",
        "owners_mean = owners[\"HINCP\"].mean()\n",
        "owners_median = owners[\"HINCP\"].median()\n",
        "owners_q1 = owners[\"HINCP\"].quantile(0.25)\n",
        "owners_q3 = owners[\"HINCP\"].quantile(0.75)\n",
        "owners_iqr = owners_q3 - owners_q1\n",
        "owners_std = owners[\"HINCP\"].std()\n",
        "\n",
        "# For renters\n",
        "renters_mean = renters[\"HINCP\"].mean()\n",
        "renters_median = renters[\"HINCP\"].median()\n",
        "renters_q1 = renters[\"HINCP\"].quantile(0.25)\n",
        "renters_q3 = renters[\"HINCP\"].quantile(0.75)\n",
        "renters_iqr = renters_q3 - renters_q1\n",
        "renters_std = renters[\"HINCP\"].std()\n",
        "\n",
        "print(\"Owners:\")\n",
        "print(f\"Mean: {owners_mean:.2f}\")\n",
        "print(f\"Median: {owners_median:.2f}\")\n",
        "print(f\"IQR: {owners_iqr:.2f}\")\n",
        "print(f\"Standard Deviation: {owners_std:.2f}\")\n",
        "\n",
        "print(\"\\nRenters:\")\n",
        "print(f\"Mean: {renters_mean:.2f}\")\n",
        "print(f\"Median: {renters_median:.2f}\")\n",
        "print(f\"IQR: {renters_iqr:.2f}\")\n",
        "print(f\"Standard Deviation: {renters_std:.2f}\")"
      ],
      "metadata": {
        "id": "B9Kr5CWWfpv1",
        "colab": {
          "base_uri": "https://localhost:8080/"
        },
        "outputId": "2ae11777-216e-45f6-bf69-04a9de97d797"
      },
      "execution_count": 19,
      "outputs": [
        {
          "output_type": "stream",
          "name": "stdout",
          "text": [
            "Owners:\n",
            "Mean: 103101.59\n",
            "Median: 75000.00\n",
            "IQR: 85100.00\n",
            "Standard Deviation: 107811.39\n",
            "\n",
            "Renters:\n",
            "Mean: 56607.35\n",
            "Median: 40000.00\n",
            "IQR: 49600.00\n",
            "Standard Deviation: 64594.46\n"
          ]
        }
      ]
    },
    {
      "cell_type": "markdown",
      "source": [
        "## Question 2: More on distributions\n",
        "\n",
        "### Q2.a Distributions of number of people in the household\n",
        "\n",
        "Create a histogram of the number of people in the household (`\"NP\"`) for the `acs` data. Use the `bins` argument to create a histogram with 20 bins. Briefly discuss the location, spread, and skew of the distribution."
      ],
      "metadata": {
        "id": "MCl6k2FgcrN1"
      }
    },
    {
      "cell_type": "markdown",
      "source": [
        "Answer: The spread ranges from 0-9 (about). The center of the distribution appears to be around 2.1-2.2 while also being fairly right skewed. The right skew indicates that while most households have less people, there are some households with more people, creating a right skewed tail."
      ],
      "metadata": {
        "id": "ca__eT2TWEz4"
      }
    },
    {
      "cell_type": "code",
      "source": [
        "import matplotlib.pyplot as plt\n",
        "\n",
        "plt.figure(figsize=(10, 6))\n",
        "plt.hist(acs[\"NP\"], bins=20, edgecolor='black')\n",
        "plt.title(\"Distribution of Household Size\")\n",
        "plt.xlabel(\"Number of People in Household\")\n",
        "plt.ylabel(\"Frequency\")\n",
        "plt.show()"
      ],
      "metadata": {
        "id": "QfH8zSk4c-Vx",
        "colab": {
          "base_uri": "https://localhost:8080/",
          "height": 564
        },
        "outputId": "9aa1cbb9-45b8-4619-cb7e-2e0b07f8a225"
      },
      "execution_count": 20,
      "outputs": [
        {
          "output_type": "display_data",
          "data": {
            "text/plain": [
              "<Figure size 1000x600 with 1 Axes>"
            ],
            "image/png": "[encoded data removed]"
          },
          "metadata": {}
        }
      ]
    },
    {
      "cell_type": "markdown",
      "source": [
        "### Q2.b Summaries of `NP`\n",
        "\n",
        "Check your answers to the previous question by computing the following for the `\"NP\"` column:\n",
        "* mean\n",
        "* median\n",
        "* IQR\n",
        "* standard deviation\n",
        "* quantile skewness using the 0.25 and 0.75 quantile\n",
        "* coefficient of skewness\n",
        "\n",
        "Recall the nifty, built-in method we used in lab to calculate the **coefficient of skewness**!"
      ],
      "metadata": {
        "id": "FPLXPGwCctZy"
      }
    },
    {
      "cell_type": "code",
      "source": [
        "import numpy as np\n",
        "from scipy.stats import skew\n",
        "\n",
        "#calculate\n",
        "np_mean = acs[\"NP\"].mean()\n",
        "np_median = acs[\"NP\"].median()\n",
        "np_q1 = acs[\"NP\"].quantile(0.25)\n",
        "np_q3 = acs[\"NP\"].quantile(0.75)\n",
        "np_iqr = np_q3 - np_q1\n",
        "np_std = acs[\"NP\"].std()\n",
        "\n",
        "#quantile skewness\n",
        "quantile_skewness = (np_q3 + np_q1 - 2*np_median) / (np_q3 - np_q1)\n",
        "\n",
        "#coefficient of skewness using the built-in method\n",
        "coefficient_skewness = skew(acs[\"NP\"])\n",
        "\n",
        "print(f\"Mean: {np_mean:.2f}\")\n",
        "print(f\"Median: {np_median:.2f}\")\n",
        "print(f\"IQR: {np_iqr:.2f}\")\n",
        "print(f\"Standard Deviation: {np_std:.2f}\")\n",
        "print(f\"Quantile Skewness: {quantile_skewness:.2f}\")\n",
        "print(f\"Coefficient of Skewness: {coefficient_skewness:.2f}\")"
      ],
      "metadata": {
        "id": "sJfEnhwYc9-i",
        "colab": {
          "base_uri": "https://localhost:8080/"
        },
        "outputId": "daafa7d3-7ad6-4087-df32-093c79e7e38d"
      },
      "execution_count": 22,
      "outputs": [
        {
          "output_type": "stream",
          "name": "stdout",
          "text": [
            "Mean: 2.21\n",
            "Median: 2.00\n",
            "IQR: 2.00\n",
            "Standard Deviation: 1.53\n",
            "Quantile Skewness: 0.00\n",
            "Coefficient of Skewness: 1.13\n"
          ]
        }
      ]
    },
    {
      "cell_type": "markdown",
      "source": [
        "### Q2.c Comparing conditional distribution of NP for owners and renters\n",
        "\n",
        "Create a side-by-side boxplot of the number of people in the household for owners and renters. Comment on what you notice about the distributions of the number of people in the household for owners and renters."
      ],
      "metadata": {
        "id": "FDoCUppNc0xO"
      }
    },
    {
      "cell_type": "markdown",
      "source": [
        "Answer: There is a way wider distribution of household size for owners. This could be due to the fact that they have higher incomes and can support more family members. It also could be due to the fact that owners typically own larger spaces, as opposed to renting a smaller apartment."
      ],
      "metadata": {
        "id": "Sn2XjY9SXX8X"
      }
    },
    {
      "cell_type": "code",
      "source": [
        "import matplotlib.pyplot as plt\n",
        "import seaborn as sns\n",
        "tenure_mapping = {1: 'Owner', 2: 'Renter'}\n",
        "acs['TEN_Label'] = acs['TEN'].map(tenure_mapping)\n",
        "\n",
        "\n",
        "plt.figure(figsize=(10, 6))\n",
        "sns.boxplot(x='TEN_Label', y='NP', data=acs, order=['Owner', 'Renter'])\n",
        "plt.title('Distribution of Household Size for Owners and Renters')\n",
        "plt.xlabel('Tenure')\n",
        "plt.ylabel('Number of People in Household')\n",
        "plt.show()"
      ],
      "metadata": {
        "id": "9_Dz-7yBc9oM",
        "colab": {
          "base_uri": "https://localhost:8080/",
          "height": 564
        },
        "outputId": "a4b8932f-e052-4a67-9d46-3f0b664d2b02"
      },
      "execution_count": 24,
      "outputs": [
        {
          "output_type": "display_data",
          "data": {
            "text/plain": [
              "<Figure size 1000x600 with 1 Axes>"
            ],
            "image/png": "[encoded data removed]"
          },
          "metadata": {}
        }
      ]
    },
    {
      "cell_type": "markdown",
      "metadata": {
        "id": "XhSzUTFm0NZX"
      },
      "source": [
        "### Q2.d Effect size of the difference in means\n",
        "\n",
        "Compute the effect size of the difference in means of the **number of people in the household** for `owners` and `renters`. Use the formula for Cohen's $d$\n",
        "\n",
        "$$d = \\frac{\\bar X_1 - \\bar X_2}{S_p}$$\n",
        "\n",
        "where $\\bar X_1$ and $\\bar X_2$ are the means of the two groups and $S_p$ is the **pooled standard deviation**.\n",
        "\n",
        "\n",
        "\n"
      ]
    },
    {
      "cell_type": "code",
      "source": [
        "import numpy as np\n",
        "\n",
        "#means\n",
        "owners_mean = owners['NP'].mean()\n",
        "renters_mean = renters['NP'].mean()\n",
        "\n",
        "#sample sizes\n",
        "n1 = len(owners)\n",
        "n2 = len(renters)\n",
        "\n",
        "#variances\n",
        "owners_var = owners['NP'].var()\n",
        "renters_var = renters['NP'].var()\n",
        "\n",
        "#pooled standard deviation\n",
        "sp = np.sqrt(((n1 - 1) * owners_var + (n2 - 1) * renters_var) / (n1 + n2 - 2))\n",
        "\n",
        "#Cohen's d\n",
        "cohens_d = (owners_mean - renters_mean) / sp\n",
        "\n",
        "print(f\"Owners mean household size: {owners_mean:.2f}\")\n",
        "print(f\"Renters mean household size: {renters_mean:.2f}\")\n",
        "print(f\"Pooled standard deviation: {sp:.2f}\")\n",
        "print(f\"Cohen's d: {cohens_d:.2f}\")"
      ],
      "metadata": {
        "id": "mJV1NreCc9G5",
        "colab": {
          "base_uri": "https://localhost:8080/"
        },
        "outputId": "9be86396-ff94-47b4-82b1-dd0a393da1b7"
      },
      "execution_count": 25,
      "outputs": [
        {
          "output_type": "stream",
          "name": "stdout",
          "text": [
            "Owners mean household size: 2.46\n",
            "Renters mean household size: 2.17\n",
            "Pooled standard deviation: 1.45\n",
            "Cohen's d: 0.20\n"
          ]
        }
      ]
    },
    {
      "cell_type": "markdown",
      "source": [
        "Using the following table of effect sizes, how would you interpret the effect size of the difference in means of the number of people in the household for owners and renters?\n",
        "\n",
        "| Effect size | Interpretation |\n",
        "|-------------|-----------------|\n",
        "| (0, 0.2]    | Small           |\n",
        "| (0.2, 0.5]  | Medium          |\n",
        "| (0.5, 0.1]  | Large           |\n",
        "| (1, 2]      | Very large      |"
      ],
      "metadata": {
        "id": "flR5gjDsicYb"
      }
    },
    {
      "cell_type": "markdown",
      "source": [
        "Answer: Based on our Cohen's d value of 0.20, we can interpret that being an owner v.s. a renter has a rather small effect on household size."
      ],
      "metadata": {
        "id": "8Do6UcrjY5VO"
      }
    },
    {
      "cell_type": "markdown",
      "source": [
        "## Question 3: More on means and medians\n",
        "\n",
        "For this problem, we will investigate some theoretical properties of means and medians.\n",
        "\n",
        "### Q3.a\n",
        "\n",
        "We have already seen that the mean is the unique point $\\bar X$ that makes $\\sum_{i=1}^n (X_i - \\bar X) = 0$. While we didn't introduce it as such, it is also the case that $\\bar X$ is the point that **minimizes** $\\sum_{i=1}^n (X_i - \\bar X)^2$, the sum of squared deviations.\n",
        "\n",
        "Using the `HINCP` column of the `acs` data, demonstrate that the sum of squared deviations from the mean is less than the sum of squared deviations from the median ($\\sum_{i=1}^n (X_i - \\tilde X)^2$).\n",
        "\n",
        "Recall that `x**2` is how we square things in Python."
      ],
      "metadata": {
        "id": "WMAHQzzYc5cJ"
      }
    },
    {
      "cell_type": "code",
      "source": [
        "import numpy as np\n",
        "\n",
        "#mean and median\n",
        "hincp_mean = acs['HINCP'].mean()\n",
        "hincp_median = acs['HINCP'].median()\n",
        "\n",
        "#sum of squared deviations from mean\n",
        "sum_sq_dev_mean = np.sum((acs['HINCP'] - hincp_mean)**2)\n",
        "\n",
        "#sum of squared deviations from median\n",
        "sum_sq_dev_median = np.sum((acs['HINCP'] - hincp_median)**2)\n",
        "\n",
        "print(f\"Sum of squared deviations from mean: {sum_sq_dev_mean:.2e}\")\n",
        "print(f\"Sum of squared deviations from median: {sum_sq_dev_median:.2e}\")\n",
        "print(f\"Difference (median - mean): {sum_sq_dev_median - sum_sq_dev_mean:.2e}\")\n",
        "print(f\"The sum of squared deviations from the mean is less than from the median: {sum_sq_dev_mean < sum_sq_dev_median}\")"
      ],
      "metadata": {
        "id": "XpISBoOJc6R6",
        "colab": {
          "base_uri": "https://localhost:8080/"
        },
        "outputId": "44da376d-b0a9-4a24-c965-554bc3dc3d88"
      },
      "execution_count": 26,
      "outputs": [
        {
          "output_type": "stream",
          "name": "stdout",
          "text": [
            "Sum of squared deviations from mean: 2.51e+15\n",
            "Sum of squared deviations from median: 2.69e+15\n",
            "Difference (median - mean): 1.78e+14\n",
            "The sum of squared deviations from the mean is less than from the median: True\n"
          ]
        }
      ]
    },
    {
      "cell_type": "markdown",
      "metadata": {
        "id": "qmnBKfAD0NZY"
      },
      "source": [
        "### Q3.b\n",
        "\n",
        "Now, using $\\bar X$ and $\\tilde X$, compute the **sum of absolute distances**, $\\sum_{i=1}^n | X_i - \\bar X |$ and $\\sum_{i=1}^n |X_i - \\tilde X|$.\n",
        "\n",
        "Recall the `.abs()` method can compute the absolute value of a series."
      ]
    },
    {
      "cell_type": "code",
      "source": [
        "sum_abs_dev_mean = (acs['HINCP'] - hincp_mean).abs().sum()\n",
        "\n",
        "#sum of absolute deviations from median\n",
        "sum_abs_dev_median = (acs['HINCP'] - hincp_median).abs().sum()\n",
        "\n",
        "print(f\"Sum of absolute deviations from mean: {sum_abs_dev_mean:.2e}\")\n",
        "print(f\"Sum of absolute deviations from median: {sum_abs_dev_median:.2e}\")\n",
        "print(f\"Difference (mean - median): {sum_abs_dev_mean - sum_abs_dev_median:.2e}\")\n",
        "print(f\"The sum of absolute deviations from the median is less than from the mean: {sum_abs_dev_median < sum_abs_dev_mean}\")"
      ],
      "metadata": {
        "id": "28eOvHFMc8BY",
        "colab": {
          "base_uri": "https://localhost:8080/"
        },
        "outputId": "04eafebf-2055-4b1b-d8c5-5e239822c9d0"
      },
      "execution_count": 27,
      "outputs": [
        {
          "output_type": "stream",
          "name": "stdout",
          "text": [
            "Sum of absolute deviations from mean: 1.56e+10\n",
            "Sum of absolute deviations from median: 1.45e+10\n",
            "Difference (mean - median): 1.11e+09\n",
            "The sum of absolute deviations from the median is less than from the mean: True\n"
          ]
        }
      ]
    },
    {
      "cell_type": "markdown",
      "metadata": {
        "id": "T3J9jKHe0NZY"
      },
      "source": [
        "### Q3.c\n",
        "\n",
        "While we are not rising to the level of a mathematical proof, what do these result suggest about which type of measure of location would minimize the sum of absolute differences?\n"
      ]
    },
    {
      "cell_type": "markdown",
      "source": [
        "Answer: These results suggest that the median minimizes the sum of absolute differences. This is opposite to the mean, which minimizes the sum of squared differences.\n",
        "\n",
        "This makes the median good measure of central tendency, particularly useful for skewed distributions or data with outliers. This is why the median is preferred where extreme values might disproportionately influence the mean."
      ],
      "metadata": {
        "id": "A2YNPn8wc6nI"
      }
    }
  ],
  "metadata": {
    "kernelspec": {
      "name": "python3",
      "language": "python",
      "display_name": "Python 3 (ipykernel)",
      "path": "/Users/mark/Documents/Professional/Teaching/umich/data-science-101-materials/env/share/jupyter/kernels/python3"
    },
    "colab": {
      "provenance": [],
      "include_colab_link": true
    }
  },
  "nbformat": 4,
  "nbformat_minor": 0
}